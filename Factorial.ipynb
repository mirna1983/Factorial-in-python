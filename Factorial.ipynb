{
 "cells": [
  {
   "cell_type": "markdown",
   "id": "80932c93",
   "metadata": {},
   "source": [
    "Have the function FirstFactorial(num) take the num parameter being passed and return the factorial of it. For example: if num = 4, then your program should return (4 * 3 * 2 * 1) = 24. For the test cases, the range will be between 1 and 18 and the input will always be an integer.\n"
   ]
  },
  {
   "cell_type": "code",
   "execution_count": 8,
   "id": "aa1bc898",
   "metadata": {},
   "outputs": [
    {
     "name": "stdout",
     "output_type": "stream",
     "text": [
      "3\n",
      "6\n"
     ]
    }
   ],
   "source": [
    "import math\n",
    "\n",
    "def FirstFactorial(num):\n",
    "    #using int() to convert your inputs to integers only\n",
    "    num=int(num)\n",
    "    #use the math module’s factorial function\n",
    "    return math.factorial(num)\n",
    "print(FirstFactorial(input()))"
   ]
  }
 ],
 "metadata": {
  "kernelspec": {
   "display_name": "Python 3",
   "language": "python",
   "name": "python3"
  },
  "language_info": {
   "codemirror_mode": {
    "name": "ipython",
    "version": 3
   },
   "file_extension": ".py",
   "mimetype": "text/x-python",
   "name": "python",
   "nbconvert_exporter": "python",
   "pygments_lexer": "ipython3",
   "version": "3.8.8"
  }
 },
 "nbformat": 4,
 "nbformat_minor": 5
}
